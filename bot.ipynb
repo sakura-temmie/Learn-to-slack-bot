#ここがBOTを走らせるメインプログラム

#pipはnpmみたいなもの。Pythonにある、slackbotライブラリをインストール。
!pip install slackbot

#ライブラリからモジュールを持ってくるコマンド。
from slackbot.bot import Bot
from slackbot.bot import respond_to

#特定の単語に反応する関数
@respond_to('おはよう')
def sample(message):
    message.send('おはようございます！') 

@respond_to('こんにちは')
def sample(message):
    message.send('こんにちは！') 
    
@respond_to('こんばんわ')
def sample(message):
    message.send('こんばんわ！')

#main という関数を実行させてbotを起動させる
#（その前にスタートスラックボットという文字列を表示させている）
def main():
    bot = Bot()
    bot.run()
    
if __name__ == "__main__":
    print('start slackbot')
    main()
    
